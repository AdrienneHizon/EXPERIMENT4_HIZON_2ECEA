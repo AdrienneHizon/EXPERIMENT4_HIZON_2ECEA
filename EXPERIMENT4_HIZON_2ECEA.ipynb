{
 "cells": [
  {
   "cell_type": "markdown",
   "id": "e80af3bd-17d6-488a-acc5-ab19021a14bd",
   "metadata": {},
   "source": [
    "# Programming Assignment 4: Data Wrangling and Data Visualization\n",
    "## Name: Kyle Adrienne S. Hizon\n",
    "## Section: 2ECE-A"
   ]
  },
  {
   "cell_type": "markdown",
   "id": "affcd0c2-284f-48b1-ad8e-1de4b7cd3991",
   "metadata": {},
   "source": [
    "# Problem 1: Data Filtering"
   ]
  },
  {
   "cell_type": "code",
   "execution_count": 8,
   "id": "1a5e92ad-8e1b-4e05-a3c1-537a964276fd",
   "metadata": {},
   "outputs": [],
   "source": [
    "# Importing pandas library because it is important for the data wrangling and visualization\n",
    "import pandas as pd"
   ]
  },
  {
   "cell_type": "code",
   "execution_count": 10,
   "id": "b0e098b0-e286-45e2-a5b9-706c510c624a",
   "metadata": {},
   "outputs": [
    {
     "data": {
      "text/html": [
       "<div>\n",
       "<style scoped>\n",
       "    .dataframe tbody tr th:only-of-type {\n",
       "        vertical-align: middle;\n",
       "    }\n",
       "\n",
       "    .dataframe tbody tr th {\n",
       "        vertical-align: top;\n",
       "    }\n",
       "\n",
       "    .dataframe thead th {\n",
       "        text-align: right;\n",
       "    }\n",
       "</style>\n",
       "<table border=\"1\" class=\"dataframe\">\n",
       "  <thead>\n",
       "    <tr style=\"text-align: right;\">\n",
       "      <th></th>\n",
       "      <th>Name</th>\n",
       "      <th>Gender</th>\n",
       "      <th>Track</th>\n",
       "      <th>Hometown</th>\n",
       "      <th>Math</th>\n",
       "      <th>Electronics</th>\n",
       "      <th>GEAS</th>\n",
       "      <th>Communication</th>\n",
       "    </tr>\n",
       "  </thead>\n",
       "  <tbody>\n",
       "    <tr>\n",
       "      <th>0</th>\n",
       "      <td>S1</td>\n",
       "      <td>Male</td>\n",
       "      <td>Instrumentation</td>\n",
       "      <td>Luzon</td>\n",
       "      <td>58</td>\n",
       "      <td>89</td>\n",
       "      <td>75</td>\n",
       "      <td>78</td>\n",
       "    </tr>\n",
       "    <tr>\n",
       "      <th>1</th>\n",
       "      <td>S2</td>\n",
       "      <td>Female</td>\n",
       "      <td>Communication</td>\n",
       "      <td>Mindanao</td>\n",
       "      <td>52</td>\n",
       "      <td>75</td>\n",
       "      <td>90</td>\n",
       "      <td>52</td>\n",
       "    </tr>\n",
       "    <tr>\n",
       "      <th>2</th>\n",
       "      <td>S3</td>\n",
       "      <td>Female</td>\n",
       "      <td>Instrumentation</td>\n",
       "      <td>Mindanao</td>\n",
       "      <td>83</td>\n",
       "      <td>74</td>\n",
       "      <td>77</td>\n",
       "      <td>57</td>\n",
       "    </tr>\n",
       "    <tr>\n",
       "      <th>3</th>\n",
       "      <td>S4</td>\n",
       "      <td>Male</td>\n",
       "      <td>Instrumentation</td>\n",
       "      <td>Visayas</td>\n",
       "      <td>65</td>\n",
       "      <td>58</td>\n",
       "      <td>91</td>\n",
       "      <td>68</td>\n",
       "    </tr>\n",
       "    <tr>\n",
       "      <th>4</th>\n",
       "      <td>S5</td>\n",
       "      <td>Male</td>\n",
       "      <td>Communication</td>\n",
       "      <td>Luzon</td>\n",
       "      <td>59</td>\n",
       "      <td>86</td>\n",
       "      <td>43</td>\n",
       "      <td>88</td>\n",
       "    </tr>\n",
       "    <tr>\n",
       "      <th>5</th>\n",
       "      <td>S6</td>\n",
       "      <td>Female</td>\n",
       "      <td>Microelectronics</td>\n",
       "      <td>Visayas</td>\n",
       "      <td>88</td>\n",
       "      <td>45</td>\n",
       "      <td>86</td>\n",
       "      <td>83</td>\n",
       "    </tr>\n",
       "    <tr>\n",
       "      <th>6</th>\n",
       "      <td>S7</td>\n",
       "      <td>Female</td>\n",
       "      <td>Instrumentation</td>\n",
       "      <td>Luzon</td>\n",
       "      <td>66</td>\n",
       "      <td>60</td>\n",
       "      <td>60</td>\n",
       "      <td>48</td>\n",
       "    </tr>\n",
       "    <tr>\n",
       "      <th>7</th>\n",
       "      <td>S8</td>\n",
       "      <td>Male</td>\n",
       "      <td>Instrumentation</td>\n",
       "      <td>Luzon</td>\n",
       "      <td>49</td>\n",
       "      <td>81</td>\n",
       "      <td>64</td>\n",
       "      <td>53</td>\n",
       "    </tr>\n",
       "    <tr>\n",
       "      <th>8</th>\n",
       "      <td>S9</td>\n",
       "      <td>Male</td>\n",
       "      <td>Instrumentation</td>\n",
       "      <td>Luzon</td>\n",
       "      <td>50</td>\n",
       "      <td>36</td>\n",
       "      <td>63</td>\n",
       "      <td>42</td>\n",
       "    </tr>\n",
       "    <tr>\n",
       "      <th>9</th>\n",
       "      <td>S10</td>\n",
       "      <td>Male</td>\n",
       "      <td>Microelectronics</td>\n",
       "      <td>Mindanao</td>\n",
       "      <td>80</td>\n",
       "      <td>84</td>\n",
       "      <td>61</td>\n",
       "      <td>44</td>\n",
       "    </tr>\n",
       "    <tr>\n",
       "      <th>10</th>\n",
       "      <td>S11</td>\n",
       "      <td>Female</td>\n",
       "      <td>Communication</td>\n",
       "      <td>Visayas</td>\n",
       "      <td>48</td>\n",
       "      <td>56</td>\n",
       "      <td>48</td>\n",
       "      <td>67</td>\n",
       "    </tr>\n",
       "    <tr>\n",
       "      <th>11</th>\n",
       "      <td>S12</td>\n",
       "      <td>Male</td>\n",
       "      <td>Communication</td>\n",
       "      <td>Visayas</td>\n",
       "      <td>89</td>\n",
       "      <td>67</td>\n",
       "      <td>84</td>\n",
       "      <td>64</td>\n",
       "    </tr>\n",
       "    <tr>\n",
       "      <th>12</th>\n",
       "      <td>S13</td>\n",
       "      <td>Female</td>\n",
       "      <td>Microelectronics</td>\n",
       "      <td>Luzon</td>\n",
       "      <td>88</td>\n",
       "      <td>35</td>\n",
       "      <td>83</td>\n",
       "      <td>43</td>\n",
       "    </tr>\n",
       "    <tr>\n",
       "      <th>13</th>\n",
       "      <td>S14</td>\n",
       "      <td>Female</td>\n",
       "      <td>Microelectronics</td>\n",
       "      <td>Luzon</td>\n",
       "      <td>83</td>\n",
       "      <td>77</td>\n",
       "      <td>89</td>\n",
       "      <td>73</td>\n",
       "    </tr>\n",
       "    <tr>\n",
       "      <th>14</th>\n",
       "      <td>S15</td>\n",
       "      <td>Female</td>\n",
       "      <td>Microelectronics</td>\n",
       "      <td>Mindanao</td>\n",
       "      <td>69</td>\n",
       "      <td>41</td>\n",
       "      <td>40</td>\n",
       "      <td>86</td>\n",
       "    </tr>\n",
       "    <tr>\n",
       "      <th>15</th>\n",
       "      <td>S16</td>\n",
       "      <td>Female</td>\n",
       "      <td>Communication</td>\n",
       "      <td>Luzon</td>\n",
       "      <td>71</td>\n",
       "      <td>70</td>\n",
       "      <td>87</td>\n",
       "      <td>81</td>\n",
       "    </tr>\n",
       "    <tr>\n",
       "      <th>16</th>\n",
       "      <td>S17</td>\n",
       "      <td>Female</td>\n",
       "      <td>Microelectronics</td>\n",
       "      <td>Mindanao</td>\n",
       "      <td>81</td>\n",
       "      <td>79</td>\n",
       "      <td>77</td>\n",
       "      <td>45</td>\n",
       "    </tr>\n",
       "    <tr>\n",
       "      <th>17</th>\n",
       "      <td>S18</td>\n",
       "      <td>Male</td>\n",
       "      <td>Communication</td>\n",
       "      <td>Visayas</td>\n",
       "      <td>81</td>\n",
       "      <td>40</td>\n",
       "      <td>81</td>\n",
       "      <td>52</td>\n",
       "    </tr>\n",
       "    <tr>\n",
       "      <th>18</th>\n",
       "      <td>S19</td>\n",
       "      <td>Male</td>\n",
       "      <td>Microelectronics</td>\n",
       "      <td>Luzon</td>\n",
       "      <td>79</td>\n",
       "      <td>63</td>\n",
       "      <td>79</td>\n",
       "      <td>71</td>\n",
       "    </tr>\n",
       "    <tr>\n",
       "      <th>19</th>\n",
       "      <td>S20</td>\n",
       "      <td>Female</td>\n",
       "      <td>Communication</td>\n",
       "      <td>Mindanao</td>\n",
       "      <td>59</td>\n",
       "      <td>60</td>\n",
       "      <td>62</td>\n",
       "      <td>85</td>\n",
       "    </tr>\n",
       "    <tr>\n",
       "      <th>20</th>\n",
       "      <td>S21</td>\n",
       "      <td>Female</td>\n",
       "      <td>Microelectronics</td>\n",
       "      <td>Visayas</td>\n",
       "      <td>83</td>\n",
       "      <td>51</td>\n",
       "      <td>68</td>\n",
       "      <td>72</td>\n",
       "    </tr>\n",
       "    <tr>\n",
       "      <th>21</th>\n",
       "      <td>S22</td>\n",
       "      <td>Female</td>\n",
       "      <td>Communication</td>\n",
       "      <td>Visayas</td>\n",
       "      <td>64</td>\n",
       "      <td>39</td>\n",
       "      <td>89</td>\n",
       "      <td>58</td>\n",
       "    </tr>\n",
       "    <tr>\n",
       "      <th>22</th>\n",
       "      <td>S23</td>\n",
       "      <td>Male</td>\n",
       "      <td>Instrumentation</td>\n",
       "      <td>Luzon</td>\n",
       "      <td>84</td>\n",
       "      <td>70</td>\n",
       "      <td>74</td>\n",
       "      <td>47</td>\n",
       "    </tr>\n",
       "    <tr>\n",
       "      <th>23</th>\n",
       "      <td>S24</td>\n",
       "      <td>Female</td>\n",
       "      <td>Microelectronics</td>\n",
       "      <td>Visayas</td>\n",
       "      <td>85</td>\n",
       "      <td>45</td>\n",
       "      <td>60</td>\n",
       "      <td>41</td>\n",
       "    </tr>\n",
       "    <tr>\n",
       "      <th>24</th>\n",
       "      <td>S25</td>\n",
       "      <td>Male</td>\n",
       "      <td>Communication</td>\n",
       "      <td>Luzon</td>\n",
       "      <td>74</td>\n",
       "      <td>91</td>\n",
       "      <td>94</td>\n",
       "      <td>42</td>\n",
       "    </tr>\n",
       "    <tr>\n",
       "      <th>25</th>\n",
       "      <td>S26</td>\n",
       "      <td>Female</td>\n",
       "      <td>Instrumentation</td>\n",
       "      <td>Visayas</td>\n",
       "      <td>71</td>\n",
       "      <td>47</td>\n",
       "      <td>83</td>\n",
       "      <td>62</td>\n",
       "    </tr>\n",
       "    <tr>\n",
       "      <th>26</th>\n",
       "      <td>S27</td>\n",
       "      <td>Male</td>\n",
       "      <td>Microelectronics</td>\n",
       "      <td>Visayas</td>\n",
       "      <td>70</td>\n",
       "      <td>47</td>\n",
       "      <td>40</td>\n",
       "      <td>86</td>\n",
       "    </tr>\n",
       "    <tr>\n",
       "      <th>27</th>\n",
       "      <td>S28</td>\n",
       "      <td>Male</td>\n",
       "      <td>Communication</td>\n",
       "      <td>Visayas</td>\n",
       "      <td>85</td>\n",
       "      <td>53</td>\n",
       "      <td>80</td>\n",
       "      <td>53</td>\n",
       "    </tr>\n",
       "    <tr>\n",
       "      <th>28</th>\n",
       "      <td>S29</td>\n",
       "      <td>Male</td>\n",
       "      <td>Instrumentation</td>\n",
       "      <td>Mindanao</td>\n",
       "      <td>73</td>\n",
       "      <td>48</td>\n",
       "      <td>71</td>\n",
       "      <td>62</td>\n",
       "    </tr>\n",
       "    <tr>\n",
       "      <th>29</th>\n",
       "      <td>S30</td>\n",
       "      <td>Male</td>\n",
       "      <td>Instrumentation</td>\n",
       "      <td>Luzon</td>\n",
       "      <td>78</td>\n",
       "      <td>81</td>\n",
       "      <td>57</td>\n",
       "      <td>56</td>\n",
       "    </tr>\n",
       "  </tbody>\n",
       "</table>\n",
       "</div>"
      ],
      "text/plain": [
       "   Name  Gender             Track  Hometown  Math  Electronics  GEAS  \\\n",
       "0    S1    Male   Instrumentation     Luzon    58           89    75   \n",
       "1    S2  Female     Communication  Mindanao    52           75    90   \n",
       "2    S3  Female   Instrumentation  Mindanao    83           74    77   \n",
       "3    S4    Male   Instrumentation   Visayas    65           58    91   \n",
       "4    S5    Male     Communication     Luzon    59           86    43   \n",
       "5    S6  Female  Microelectronics   Visayas    88           45    86   \n",
       "6    S7  Female   Instrumentation     Luzon    66           60    60   \n",
       "7    S8    Male   Instrumentation     Luzon    49           81    64   \n",
       "8    S9    Male   Instrumentation     Luzon    50           36    63   \n",
       "9   S10    Male  Microelectronics  Mindanao    80           84    61   \n",
       "10  S11  Female     Communication   Visayas    48           56    48   \n",
       "11  S12    Male     Communication   Visayas    89           67    84   \n",
       "12  S13  Female  Microelectronics     Luzon    88           35    83   \n",
       "13  S14  Female  Microelectronics     Luzon    83           77    89   \n",
       "14  S15  Female  Microelectronics  Mindanao    69           41    40   \n",
       "15  S16  Female     Communication     Luzon    71           70    87   \n",
       "16  S17  Female  Microelectronics  Mindanao    81           79    77   \n",
       "17  S18    Male     Communication   Visayas    81           40    81   \n",
       "18  S19    Male  Microelectronics     Luzon    79           63    79   \n",
       "19  S20  Female     Communication  Mindanao    59           60    62   \n",
       "20  S21  Female  Microelectronics   Visayas    83           51    68   \n",
       "21  S22  Female     Communication   Visayas    64           39    89   \n",
       "22  S23    Male   Instrumentation     Luzon    84           70    74   \n",
       "23  S24  Female  Microelectronics   Visayas    85           45    60   \n",
       "24  S25    Male     Communication     Luzon    74           91    94   \n",
       "25  S26  Female   Instrumentation   Visayas    71           47    83   \n",
       "26  S27    Male  Microelectronics   Visayas    70           47    40   \n",
       "27  S28    Male     Communication   Visayas    85           53    80   \n",
       "28  S29    Male   Instrumentation  Mindanao    73           48    71   \n",
       "29  S30    Male   Instrumentation     Luzon    78           81    57   \n",
       "\n",
       "    Communication  \n",
       "0              78  \n",
       "1              52  \n",
       "2              57  \n",
       "3              68  \n",
       "4              88  \n",
       "5              83  \n",
       "6              48  \n",
       "7              53  \n",
       "8              42  \n",
       "9              44  \n",
       "10             67  \n",
       "11             64  \n",
       "12             43  \n",
       "13             73  \n",
       "14             86  \n",
       "15             81  \n",
       "16             45  \n",
       "17             52  \n",
       "18             71  \n",
       "19             85  \n",
       "20             72  \n",
       "21             58  \n",
       "22             47  \n",
       "23             41  \n",
       "24             42  \n",
       "25             62  \n",
       "26             86  \n",
       "27             53  \n",
       "28             62  \n",
       "29             56  "
      ]
     },
     "execution_count": 10,
     "metadata": {},
     "output_type": "execute_result"
    }
   ],
   "source": [
    "# After downloading the \"boards2.xlsx\" file, it will be put inside the boards variable\n",
    "boards = pd.read_excel(\"board2.xlsx\")\n",
    "boards"
   ]
  },
  {
   "cell_type": "code",
   "execution_count": 11,
   "id": "6ff8dc73-b2f6-4766-80d4-b8496baf8bca",
   "metadata": {},
   "outputs": [
    {
     "data": {
      "text/html": [
       "<div>\n",
       "<style scoped>\n",
       "    .dataframe tbody tr th:only-of-type {\n",
       "        vertical-align: middle;\n",
       "    }\n",
       "\n",
       "    .dataframe tbody tr th {\n",
       "        vertical-align: top;\n",
       "    }\n",
       "\n",
       "    .dataframe thead th {\n",
       "        text-align: right;\n",
       "    }\n",
       "</style>\n",
       "<table border=\"1\" class=\"dataframe\">\n",
       "  <thead>\n",
       "    <tr style=\"text-align: right;\">\n",
       "      <th></th>\n",
       "      <th>Name</th>\n",
       "      <th>GEAS</th>\n",
       "      <th>Electronics</th>\n",
       "    </tr>\n",
       "  </thead>\n",
       "  <tbody>\n",
       "    <tr>\n",
       "      <th>0</th>\n",
       "      <td>S1</td>\n",
       "      <td>75</td>\n",
       "      <td>89</td>\n",
       "    </tr>\n",
       "    <tr>\n",
       "      <th>7</th>\n",
       "      <td>S8</td>\n",
       "      <td>64</td>\n",
       "      <td>81</td>\n",
       "    </tr>\n",
       "    <tr>\n",
       "      <th>29</th>\n",
       "      <td>S30</td>\n",
       "      <td>57</td>\n",
       "      <td>81</td>\n",
       "    </tr>\n",
       "  </tbody>\n",
       "</table>\n",
       "</div>"
      ],
      "text/plain": [
       "   Name  GEAS  Electronics\n",
       "0    S1    75           89\n",
       "7    S8    64           81\n",
       "29  S30    57           81"
      ]
     },
     "execution_count": 11,
     "metadata": {},
     "output_type": "execute_result"
    }
   ],
   "source": [
    "# To display a dataframe wherein the Name, GEAS, and Electronics grade more than 70 are displayed; With people who only lives at Luzon and has a track of Instrumentation. The .loc() function is going to be used, with multiple AND conditions and only a specific columns that are going to be shown\n",
    "Instru = boards.loc[(boards['Hometown'] == 'Luzon') & (boards['Track'] == 'Instrumentation') & (boards['Electronics'] > 70), ['Name','GEAS','Electronics']]\n",
    "Instru"
   ]
  },
  {
   "cell_type": "code",
   "execution_count": 12,
   "id": "7890494a-dc34-4e53-97f9-d4e82940ecc9",
   "metadata": {},
   "outputs": [
    {
     "data": {
      "text/html": [
       "<div>\n",
       "<style scoped>\n",
       "    .dataframe tbody tr th:only-of-type {\n",
       "        vertical-align: middle;\n",
       "    }\n",
       "\n",
       "    .dataframe tbody tr th {\n",
       "        vertical-align: top;\n",
       "    }\n",
       "\n",
       "    .dataframe thead th {\n",
       "        text-align: right;\n",
       "    }\n",
       "</style>\n",
       "<table border=\"1\" class=\"dataframe\">\n",
       "  <thead>\n",
       "    <tr style=\"text-align: right;\">\n",
       "      <th></th>\n",
       "      <th>Name</th>\n",
       "      <th>Track</th>\n",
       "      <th>Electronics</th>\n",
       "      <th>Average</th>\n",
       "    </tr>\n",
       "  </thead>\n",
       "  <tbody>\n",
       "    <tr>\n",
       "      <th>1</th>\n",
       "      <td>S2</td>\n",
       "      <td>Communication</td>\n",
       "      <td>75</td>\n",
       "      <td>67.25</td>\n",
       "    </tr>\n",
       "    <tr>\n",
       "      <th>2</th>\n",
       "      <td>S3</td>\n",
       "      <td>Instrumentation</td>\n",
       "      <td>74</td>\n",
       "      <td>72.75</td>\n",
       "    </tr>\n",
       "    <tr>\n",
       "      <th>14</th>\n",
       "      <td>S15</td>\n",
       "      <td>Microelectronics</td>\n",
       "      <td>41</td>\n",
       "      <td>59.00</td>\n",
       "    </tr>\n",
       "    <tr>\n",
       "      <th>16</th>\n",
       "      <td>S17</td>\n",
       "      <td>Microelectronics</td>\n",
       "      <td>79</td>\n",
       "      <td>70.50</td>\n",
       "    </tr>\n",
       "    <tr>\n",
       "      <th>19</th>\n",
       "      <td>S20</td>\n",
       "      <td>Communication</td>\n",
       "      <td>60</td>\n",
       "      <td>66.50</td>\n",
       "    </tr>\n",
       "  </tbody>\n",
       "</table>\n",
       "</div>"
      ],
      "text/plain": [
       "   Name             Track  Electronics  Average\n",
       "1    S2     Communication           75    67.25\n",
       "2    S3   Instrumentation           74    72.75\n",
       "14  S15  Microelectronics           41    59.00\n",
       "16  S17  Microelectronics           79    70.50\n",
       "19  S20     Communication           60    66.50"
      ]
     },
     "execution_count": 12,
     "metadata": {},
     "output_type": "execute_result"
    }
   ],
   "source": [
    "# To display a dataframe wherein the Name, Track, Electronics, and Average greater or equal to 55 are displayed; With people who only lives at Mindanao and are female. The .loc() function is going to be used, with multiple AND conditions and only a specific columns that are going to be shown. The additional key named \"Average\" is going to be added with the .mean() function that is going to be utilized. The .mean() function will only compute for the mean of each row (4 subjects) because its set at axis=1 and it will be rounded by 2 using the round() function.\n",
    "boards['Average'] = round(boards[['Math', 'Electronics', 'GEAS', 'Communication']].mean(axis=1),2)\n",
    "Mindy = boards.loc[(boards['Hometown'] == 'Mindanao') & (boards['Gender'] == 'Female') & (boards['Average'] >= 55), ['Name','Track','Electronics', 'Average']]\n",
    "Mindy"
   ]
  },
  {
   "cell_type": "markdown",
   "id": "b37928cd-fab4-465e-bab3-80ebc48221d5",
   "metadata": {},
   "source": [
    "# Problem 2: Data Visualization"
   ]
  },
  {
   "cell_type": "code",
   "execution_count": 14,
   "id": "07ef66e1-b90e-445e-a488-2bc604d1e9e3",
   "metadata": {},
   "outputs": [],
   "source": [
    "# It is essential to import the matplotlib.pyplot library as it will be required for making different graphs\n",
    "import matplotlib.pyplot as plt\n",
    "import seaborn as sns"
   ]
  },
  {
   "cell_type": "markdown",
   "id": "fafa40a2-c195-442e-bd69-8b42dbdbb80a",
   "metadata": {},
   "source": [
    "#### Displaying different tracks, genders, and hometowns through bar graph for better interpretation of data with figure size modification settings. The average is going to be used as measurement for the comparison"
   ]
  },
  {
   "cell_type": "code",
   "execution_count": 72,
   "id": "90d9f767-ff97-4559-87cc-65f0cfb9025b",
   "metadata": {},
   "outputs": [
    {
     "data": {
      "text/plain": [
       "<BarContainer object of 30 artists>"
      ]
     },
     "execution_count": 72,
     "metadata": {},
     "output_type": "execute_result"
    },
    {
     "data": {
      "image/png": "[encoded data removed]",
      "text/plain": [
       "<Figure size 1000x400 with 1 Axes>"
      ]
     },
     "metadata": {},
     "output_type": "display_data"
    }
   ],
   "source": [
    "# Using plt.bar to make a bar graph\n",
    "plt.figure(figsize=(10,4))\n",
    "plt.bar(boards['Hometown'],boards['Average'])"
   ]
  },
  {
   "cell_type": "code",
   "execution_count": 84,
   "id": "ddaef494-0197-42cc-b922-657d5105d5b7",
   "metadata": {},
   "outputs": [
    {
     "data": {
      "text/plain": [
       "<Axes: title={'center': 'Average'}, xlabel='Hometown'>"
      ]
     },
     "execution_count": 84,
     "metadata": {},
     "output_type": "execute_result"
    },
    {
     "data": {
      "image/png": "[encoded data removed]",
      "text/plain": [
       "<Figure size 640x480 with 1 Axes>"
      ]
     },
     "metadata": {},
     "output_type": "display_data"
    }
   ],
   "source": [
    "# Using boxplot to emphasize the average comparisons\n",
    "boards.boxplot(column = 'Average', by = 'Hometown')"
   ]
  },
  {
   "cell_type": "markdown",
   "id": "242a01e7-95d6-4bcb-b540-04956fb849bb",
   "metadata": {},
   "source": [
    "##### It was shown that Luzon has the highest average grade with Mindanao being the lowest"
   ]
  },
  {
   "cell_type": "code",
   "execution_count": 74,
   "id": "e7e03c07-aed4-4ef4-af92-22b4acc9d49f",
   "metadata": {},
   "outputs": [
    {
     "data": {
      "text/plain": [
       "<BarContainer object of 30 artists>"
      ]
     },
     "execution_count": 74,
     "metadata": {},
     "output_type": "execute_result"
    },
    {
     "data": {
      "image/png": "[encoded data removed]",
      "text/plain": [
       "<Figure size 1000x400 with 1 Axes>"
      ]
     },
     "metadata": {},
     "output_type": "display_data"
    }
   ],
   "source": [
    "# Using plt.bar to make a bar graph\n",
    "plt.figure(figsize=(10,4))\n",
    "plt.bar(boards['Track'],boards['Average'])"
   ]
  },
  {
   "cell_type": "code",
   "execution_count": 82,
   "id": "6f399623-5902-4f6e-af53-75edcc812c87",
   "metadata": {},
   "outputs": [
    {
     "data": {
      "text/plain": [
       "<Axes: title={'center': 'Average'}, xlabel='Track'>"
      ]
     },
     "execution_count": 82,
     "metadata": {},
     "output_type": "execute_result"
    },
    {
     "data": {
      "image/png": "[encoded data removed]",
      "text/plain": [
       "<Figure size 640x480 with 1 Axes>"
      ]
     },
     "metadata": {},
     "output_type": "display_data"
    }
   ],
   "source": [
    "# Using boxplot to emphasize the average comparisons\n",
    "boards.boxplot(column = 'Average', by = 'Track')"
   ]
  },
  {
   "cell_type": "markdown",
   "id": "3468c4a4-03b3-4a45-84d6-3be09948b622",
   "metadata": {},
   "source": [
    "##### It was shown that Microelectronics has the highest average grade with Instrumentation being the lowest"
   ]
  },
  {
   "cell_type": "code",
   "execution_count": 76,
   "id": "7ea00e26-751e-4b83-bd95-7e2505e44a4c",
   "metadata": {},
   "outputs": [
    {
     "data": {
      "text/plain": [
       "<BarContainer object of 30 artists>"
      ]
     },
     "execution_count": 76,
     "metadata": {},
     "output_type": "execute_result"
    },
    {
     "data": {
      "image/png": "[encoded data removed]",
      "text/plain": [
       "<Figure size 1000x400 with 1 Axes>"
      ]
     },
     "metadata": {},
     "output_type": "display_data"
    }
   ],
   "source": [
    "# Using plt.bar to make a bar graph\n",
    "plt.figure(figsize=(10,4))\n",
    "plt.bar(boards['Gender'],boards['Average'])"
   ]
  },
  {
   "cell_type": "code",
   "execution_count": 78,
   "id": "a01ecdf0-b12d-4667-8117-015cbcfcd042",
   "metadata": {},
   "outputs": [
    {
     "data": {
      "text/plain": [
       "<Axes: title={'center': 'Average'}, xlabel='Gender'>"
      ]
     },
     "execution_count": 78,
     "metadata": {},
     "output_type": "execute_result"
    },
    {
     "data": {
      "image/png": "[encoded data removed]",
      "text/plain": [
       "<Figure size 640x480 with 1 Axes>"
      ]
     },
     "metadata": {},
     "output_type": "display_data"
    }
   ],
   "source": [
    "# Using boxplot to emphasize the average comparisons\n",
    "boards.boxplot(column = 'Average', by = 'Gender')"
   ]
  },
  {
   "cell_type": "markdown",
   "id": "a3f9a11c-cb9d-4150-92b1-8a3f827f1288",
   "metadata": {},
   "source": [
    "##### It was shown that Females perform well and has higher average grade than Males"
   ]
  }
 ],
 "metadata": {
  "kernelspec": {
   "display_name": "Python 3 (ipykernel)",
   "language": "python",
   "name": "python3"
  },
  "language_info": {
   "codemirror_mode": {
    "name": "ipython",
    "version": 3
   },
   "file_extension": ".py",
   "mimetype": "text/x-python",
   "name": "python",
   "nbconvert_exporter": "python",
   "pygments_lexer": "ipython3",
   "version": "3.12.4"
  }
 },
 "nbformat": 4,
 "nbformat_minor": 5
}
